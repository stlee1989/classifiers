{
 "cells": [
  {
   "cell_type": "code",
   "execution_count": 1,
   "metadata": {},
   "outputs": [],
   "source": [
    "import numpy as np\n",
    "import pandas as pd"
   ]
  },
  {
   "cell_type": "code",
   "execution_count": 2,
   "metadata": {},
   "outputs": [
    {
     "data": {
      "text/html": [
       "<div>\n",
       "<style scoped>\n",
       "    .dataframe tbody tr th:only-of-type {\n",
       "        vertical-align: middle;\n",
       "    }\n",
       "\n",
       "    .dataframe tbody tr th {\n",
       "        vertical-align: top;\n",
       "    }\n",
       "\n",
       "    .dataframe thead th {\n",
       "        text-align: right;\n",
       "    }\n",
       "</style>\n",
       "<table border=\"1\" class=\"dataframe\">\n",
       "  <thead>\n",
       "    <tr style=\"text-align: right;\">\n",
       "      <th></th>\n",
       "      <th>date</th>\n",
       "      <th>Rate</th>\n",
       "      <th>Change</th>\n",
       "      <th>cleantext</th>\n",
       "      <th>singlesentence</th>\n",
       "      <th>singlesentence_processed</th>\n",
       "      <th>Policy</th>\n",
       "      <th>Rates</th>\n",
       "      <th>Inflation</th>\n",
       "      <th>Labor</th>\n",
       "      <th>Tone</th>\n",
       "    </tr>\n",
       "  </thead>\n",
       "  <tbody>\n",
       "    <tr>\n",
       "      <th>0</th>\n",
       "      <td>18/5/1999</td>\n",
       "      <td>4.75</td>\n",
       "      <td>0.00</td>\n",
       "      <td>The Federal Reserve released the following sta...</td>\n",
       "      <td>The Federal Reserve released the following sta...</td>\n",
       "      <td>the federal reserve released the following sta...</td>\n",
       "      <td>4</td>\n",
       "      <td>3</td>\n",
       "      <td>4</td>\n",
       "      <td>3</td>\n",
       "      <td>4</td>\n",
       "    </tr>\n",
       "    <tr>\n",
       "      <th>1</th>\n",
       "      <td>18/5/1999</td>\n",
       "      <td>4.75</td>\n",
       "      <td>0.00</td>\n",
       "      <td>The Federal Reserve released the following sta...</td>\n",
       "      <td>Trend increases in costs and core prices have ...</td>\n",
       "      <td>trend increases in costs and core prices have ...</td>\n",
       "      <td>3</td>\n",
       "      <td>3</td>\n",
       "      <td>2</td>\n",
       "      <td>3</td>\n",
       "      <td>2</td>\n",
       "    </tr>\n",
       "    <tr>\n",
       "      <th>2</th>\n",
       "      <td>18/5/1999</td>\n",
       "      <td>4.75</td>\n",
       "      <td>0.00</td>\n",
       "      <td>The Federal Reserve released the following sta...</td>\n",
       "      <td>But domestic financial markets have recovered ...</td>\n",
       "      <td>but domestic financial markets have recovered ...</td>\n",
       "      <td>3</td>\n",
       "      <td>3</td>\n",
       "      <td>3</td>\n",
       "      <td>3</td>\n",
       "      <td>5</td>\n",
       "    </tr>\n",
       "    <tr>\n",
       "      <th>3</th>\n",
       "      <td>18/5/1999</td>\n",
       "      <td>4.75</td>\n",
       "      <td>0.00</td>\n",
       "      <td>The Federal Reserve released the following sta...</td>\n",
       "      <td>Against the background of already-tight domest...</td>\n",
       "      <td>against the background of already-tight domest...</td>\n",
       "      <td>3</td>\n",
       "      <td>3</td>\n",
       "      <td>5</td>\n",
       "      <td>5</td>\n",
       "      <td>5</td>\n",
       "    </tr>\n",
       "    <tr>\n",
       "      <th>4</th>\n",
       "      <td>30/6/1999</td>\n",
       "      <td>5.00</td>\n",
       "      <td>0.25</td>\n",
       "      <td>The Federal Open Market Committee today voted ...</td>\n",
       "      <td>The Federal Open Market Committee today voted ...</td>\n",
       "      <td>the federal open market committee today voted ...</td>\n",
       "      <td>4</td>\n",
       "      <td>4</td>\n",
       "      <td>3</td>\n",
       "      <td>3</td>\n",
       "      <td>4</td>\n",
       "    </tr>\n",
       "  </tbody>\n",
       "</table>\n",
       "</div>"
      ],
      "text/plain": [
       "        date  Rate  Change                                          cleantext  \\\n",
       "0  18/5/1999  4.75    0.00  The Federal Reserve released the following sta...   \n",
       "1  18/5/1999  4.75    0.00  The Federal Reserve released the following sta...   \n",
       "2  18/5/1999  4.75    0.00  The Federal Reserve released the following sta...   \n",
       "3  18/5/1999  4.75    0.00  The Federal Reserve released the following sta...   \n",
       "4  30/6/1999  5.00    0.25  The Federal Open Market Committee today voted ...   \n",
       "\n",
       "                                      singlesentence  \\\n",
       "0  The Federal Reserve released the following sta...   \n",
       "1  Trend increases in costs and core prices have ...   \n",
       "2  But domestic financial markets have recovered ...   \n",
       "3  Against the background of already-tight domest...   \n",
       "4  The Federal Open Market Committee today voted ...   \n",
       "\n",
       "                            singlesentence_processed  Policy  Rates  \\\n",
       "0  the federal reserve released the following sta...       4      3   \n",
       "1  trend increases in costs and core prices have ...       3      3   \n",
       "2  but domestic financial markets have recovered ...       3      3   \n",
       "3  against the background of already-tight domest...       3      3   \n",
       "4  the federal open market committee today voted ...       4      4   \n",
       "\n",
       "   Inflation  Labor  Tone  \n",
       "0          4      3     4  \n",
       "1          2      3     2  \n",
       "2          3      3     5  \n",
       "3          5      5     5  \n",
       "4          3      3     4  "
      ]
     },
     "execution_count": 2,
     "metadata": {},
     "output_type": "execute_result"
    }
   ],
   "source": [
    "df = pd.read_csv('C:/Users/STLEE/FOMC/My Project/textdf/singlesent_rated_df.csv',index_col=0)\n",
    "df.head()"
   ]
  },
  {
   "cell_type": "code",
   "execution_count": 3,
   "metadata": {},
   "outputs": [
    {
     "data": {
      "text/plain": [
       "(2376, 11)"
      ]
     },
     "execution_count": 3,
     "metadata": {},
     "output_type": "execute_result"
    }
   ],
   "source": [
    "df.shape"
   ]
  },
  {
   "cell_type": "code",
   "execution_count": 4,
   "metadata": {},
   "outputs": [
    {
     "data": {
      "text/plain": [
       "3    812\n",
       "1    507\n",
       "4    392\n",
       "5    357\n",
       "2    308\n",
       "Name: Tone, dtype: int64"
      ]
     },
     "execution_count": 4,
     "metadata": {},
     "output_type": "execute_result"
    }
   ],
   "source": [
    "#Review class proportion\n",
    "df['Tone'].value_counts()"
   ]
  },
  {
   "cell_type": "code",
   "execution_count": 5,
   "metadata": {},
   "outputs": [],
   "source": [
    "from sklearn.feature_extraction.text import CountVectorizer,TfidfTransformer,TfidfVectorizer\n",
    "from sklearn.model_selection import GridSearchCV\n",
    "from sklearn.pipeline import Pipeline\n",
    "from sklearn.naive_bayes import MultinomialNB\n",
    "from sklearn.svm import LinearSVC\n",
    "from sklearn import svm\n",
    "from sklearn.linear_model  import LogisticRegression"
   ]
  },
  {
   "cell_type": "code",
   "execution_count": 6,
   "metadata": {},
   "outputs": [],
   "source": [
    "from sklearn.metrics import f1_score\n",
    "from sklearn.metrics import make_scorer\n",
    "from sklearn.metrics import classification_report\n",
    "from sklearn.metrics import matthews_corrcoef\n",
    "from sklearn.metrics import confusion_matrix\n",
    "from sklearn.metrics import plot_confusion_matrix"
   ]
  },
  {
   "cell_type": "code",
   "execution_count": 7,
   "metadata": {},
   "outputs": [],
   "source": [
    "from sklearn.model_selection import StratifiedKFold\n",
    "from sklearn.model_selection import train_test_split"
   ]
  },
  {
   "cell_type": "code",
   "execution_count": 9,
   "metadata": {},
   "outputs": [],
   "source": [
    "import matplotlib.pyplot as plt"
   ]
  },
  {
   "cell_type": "markdown",
   "metadata": {},
   "source": [
    "# Rate Direction Prediction"
   ]
  },
  {
   "cell_type": "code",
   "execution_count": 74,
   "metadata": {},
   "outputs": [],
   "source": [
    "#Split out response\n",
    "#df_y = pd.DataFrame(df['Tone'])\n",
    "#df_X = pd.DataFrame(df['singlesentence'])\n",
    "df_y = df['Rates']\n",
    "df_X = df['singlesentence']\n",
    "\n",
    "#df_y = np.ravel(df_y)\n",
    "#rint(type(df_y))\n",
    "#rint(df_X.columns)"
   ]
  },
  {
   "cell_type": "code",
   "execution_count": 75,
   "metadata": {},
   "outputs": [],
   "source": [
    "#x_train, x_test, y_train, y_test = train_test_split(df_X, df_y, test_size=0.33, shuffle=False)\n",
    "x_train, x_test, y_train, y_test = train_test_split(df_X, df_y, test_size=0.33, stratify=df_y, random_state=3)"
   ]
  },
  {
   "cell_type": "code",
   "execution_count": 47,
   "metadata": {},
   "outputs": [],
   "source": [
    "stopwords = ['a', 'about', 'an', 'and', 'are', 'as', 'at', 'be', 'been', 'but', 'by', 'can', \\\n",
    "             'even', 'ever', 'for', 'from', 'get', 'had', 'has', 'have', 'he', 'her', 'hers', 'his', \\\n",
    "             'how', 'i', 'if', 'in', 'into', 'is', 'it', 'its', 'just', 'me', 'my', 'of', 'on', 'or', \\\n",
    "             'see', 'seen', 'she', 'so', 'than', 'that', 'the', 'their', 'there', 'they', 'this', \\\n",
    "             'to', 'was', 'we', 'were', 'what', 'when', 'which', 'who', 'will', 'with', 'you']"
   ]
  },
  {
   "cell_type": "code",
   "execution_count": 48,
   "metadata": {},
   "outputs": [
    {
     "name": "stdout",
     "output_type": "stream",
     "text": [
      "Fitting 5 folds for each of 72 candidates, totalling 360 fits\n"
     ]
    },
    {
     "name": "stderr",
     "output_type": "stream",
     "text": [
      "D:\\Anaconda3\\lib\\site-packages\\sklearn\\model_selection\\_split.py:667: UserWarning: The least populated class in y has only 3 members, which is less than n_splits=5.\n",
      "  % (min_groups, self.n_splits)), UserWarning)\n",
      "[Parallel(n_jobs=-1)]: Using backend LokyBackend with 12 concurrent workers.\n",
      "[Parallel(n_jobs=-1)]: Done   8 tasks      | elapsed:    2.7s\n",
      "[Parallel(n_jobs=-1)]: Done 112 tasks      | elapsed:    3.7s\n"
     ]
    },
    {
     "name": "stdout",
     "output_type": "stream",
     "text": [
      "Grid best parameter (max. MCC):  {'clf__alpha': 0.01, 'clf__fit_prior': True, 'tfidf__ngram_range': (2, 2), 'tfidf__norm': 'l2', 'tfidf__use_idf': True}\n",
      "Grid best score (MCC):  0.8398557251364405\n",
      "              precision    recall  f1-score   support\n",
      "\n",
      "           1     0.8333    0.9091    0.8696        11\n",
      "           2     1.0000    0.8333    0.9091         6\n",
      "           3     0.9986    0.9866    0.9926       748\n",
      "           4     0.7308    1.0000    0.8444        19\n",
      "           5     0.0000    0.0000    0.0000         1\n",
      "\n",
      "    accuracy                         0.9834       785\n",
      "   macro avg     0.7125    0.7458    0.7231       785\n",
      "weighted avg     0.9886    0.9834    0.9854       785\n",
      "\n",
      "Test score (MCC):  0.8429642146657279\n",
      "[[ 10   0   1   0   0]\n",
      " [  1   5   0   0   0]\n",
      " [  0   0 738   7   3]\n",
      " [  0   0   0  19   0]\n",
      " [  1   0   0   0   0]]\n"
     ]
    },
    {
     "name": "stderr",
     "output_type": "stream",
     "text": [
      "[Parallel(n_jobs=-1)]: Done 360 out of 360 | elapsed:    5.6s finished\n"
     ]
    },
    {
     "data": {
      "text/plain": [
       "<sklearn.metrics._plot.confusion_matrix.ConfusionMatrixDisplay at 0x22c66abfeb8>"
      ]
     },
     "execution_count": 48,
     "metadata": {},
     "output_type": "execute_result"
    },
    {
     "data": {
      "image/png": "[encoded data removed]",
      "text/plain": [
       "<Figure size 432x288 with 2 Axes>"
      ]
     },
     "metadata": {
      "needs_background": "light"
     },
     "output_type": "display_data"
    }
   ],
   "source": [
    "cv = StratifiedKFold(n_splits=5, shuffle = True, random_state=3)\n",
    "cv.get_n_splits(x_train,y_train)\n",
    "\n",
    "log = pd.DataFrame()\n",
    "i=1\n",
    "Name = 'MultinomialNaiveBayes'\n",
    "\n",
    "pipe = Pipeline([('tfidf',TfidfVectorizer(stop_words=stopwords)),\n",
    "                 ('clf', MultinomialNB())])\n",
    "\n",
    "grid_values = {'tfidf__ngram_range': [(1, 1), (1, 2), (2, 2)],\n",
    "               'tfidf__use_idf': (True, False),\n",
    "               'tfidf__norm': ('l1', 'l2'),\n",
    "               'clf__alpha': [1, 1e-1, 1e-2],\n",
    "               'clf__fit_prior': [True, False]}\n",
    "\n",
    "MCC_scoring = make_scorer(matthews_corrcoef)\n",
    "clf_grid = GridSearchCV(pipe, param_grid = grid_values, cv = cv, scoring = MCC_scoring, verbose=3, n_jobs = -1)\n",
    "clf_grid.fit(x_train,y_train)\n",
    "\n",
    "param_opt = clf_grid.best_params_\n",
    "print('Grid best parameter (max. MCC): ', clf_grid.best_params_)\n",
    "print('Grid best score (MCC): ', clf_grid.best_score_)\n",
    "print('Grid best std dev (MCC): ',clf_grid.cv_results_['std_test_score'][clf_grid.best_index_])\n",
    "\n",
    "y_pred=clf_grid.predict(x_test)\n",
    "\n",
    "print(classification_report(y_test, y_pred, digits=4))\n",
    "print('Test score (MCC): ', matthews_corrcoef(y_test, y_pred))\n",
    "\n",
    "print(confusion_matrix(y_test, y_pred))\n",
    "plot_confusion_matrix(clf_grid, x_test, y_test, cmap=plt.cm.Blues, values_format='.0f')"
   ]
  },
  {
   "cell_type": "code",
   "execution_count": 49,
   "metadata": {},
   "outputs": [
    {
     "name": "stdout",
     "output_type": "stream",
     "text": [
      "Fitting 5 folds for each of 36 candidates, totalling 180 fits\n"
     ]
    },
    {
     "name": "stderr",
     "output_type": "stream",
     "text": [
      "D:\\Anaconda3\\lib\\site-packages\\sklearn\\model_selection\\_split.py:667: UserWarning: The least populated class in y has only 3 members, which is less than n_splits=5.\n",
      "  % (min_groups, self.n_splits)), UserWarning)\n",
      "[Parallel(n_jobs=-1)]: Using backend LokyBackend with 12 concurrent workers.\n",
      "[Parallel(n_jobs=-1)]: Done   8 tasks      | elapsed:    0.2s\n",
      "[Parallel(n_jobs=-1)]: Done 104 tasks      | elapsed:    1.2s\n"
     ]
    },
    {
     "name": "stdout",
     "output_type": "stream",
     "text": [
      "Grid best parameter (max. MCC):  {'clf__dual': True, 'clf__penalty': 'l2', 'tfidf__ngram_range': (2, 2), 'tfidf__norm': 'l2', 'tfidf__use_idf': False}\n",
      "Grid best score (MCC):  0.9038165267723173\n",
      "              precision    recall  f1-score   support\n",
      "\n",
      "           1     0.9091    0.9091    0.9091        11\n",
      "           2     1.0000    0.8333    0.9091         6\n",
      "           3     0.9973    1.0000    0.9987       748\n",
      "           4     1.0000    1.0000    1.0000        19\n",
      "           5     0.0000    0.0000    0.0000         1\n",
      "\n",
      "    accuracy                         0.9962       785\n",
      "   macro avg     0.7813    0.7485    0.7634       785\n",
      "weighted avg     0.9949    0.9962    0.9955       785\n",
      "\n",
      "Test score (MCC):  0.9573657553893254\n",
      "[[ 10   0   1   0   0]\n",
      " [  0   5   1   0   0]\n",
      " [  0   0 748   0   0]\n",
      " [  0   0   0  19   0]\n",
      " [  1   0   0   0   0]]\n"
     ]
    },
    {
     "name": "stderr",
     "output_type": "stream",
     "text": [
      "[Parallel(n_jobs=-1)]: Done 180 out of 180 | elapsed:    2.0s finished\n",
      "D:\\Anaconda3\\lib\\site-packages\\sklearn\\metrics\\_classification.py:1272: UndefinedMetricWarning: Precision and F-score are ill-defined and being set to 0.0 in labels with no predicted samples. Use `zero_division` parameter to control this behavior.\n",
      "  _warn_prf(average, modifier, msg_start, len(result))\n"
     ]
    },
    {
     "data": {
      "text/plain": [
       "<sklearn.metrics._plot.confusion_matrix.ConfusionMatrixDisplay at 0x22c672e8080>"
      ]
     },
     "execution_count": 49,
     "metadata": {},
     "output_type": "execute_result"
    },
    {
     "data": {
      "image/png": "[encoded data removed]",
      "text/plain": [
       "<Figure size 432x288 with 2 Axes>"
      ]
     },
     "metadata": {
      "needs_background": "light"
     },
     "output_type": "display_data"
    }
   ],
   "source": [
    "cv = StratifiedKFold(n_splits=5, shuffle = True, random_state=3)\n",
    "cv.get_n_splits(x_train,y_train)\n",
    "\n",
    "log = pd.DataFrame()\n",
    "i=1\n",
    "Name = 'LinearSVC'\n",
    "\n",
    "pipe = Pipeline([('tfidf',TfidfVectorizer(stop_words=stopwords)),\n",
    "                 ('clf', LinearSVC())])\n",
    "\n",
    "grid_values = [{'tfidf__ngram_range': [(1, 1), (1, 2), (2, 2)],\n",
    "               'tfidf__use_idf': (True, False),\n",
    "               'tfidf__norm': ('l1', 'l2'),\n",
    "                'clf__penalty':['l2'],\n",
    "                'clf__dual':[True,False]},\n",
    "                {'tfidf__ngram_range': [(1, 1), (1, 2), (2, 2)],\n",
    "               'tfidf__use_idf': (True, False),\n",
    "               'tfidf__norm': ('l1', 'l2'),\n",
    "                'clf__penalty':['l1'],\n",
    "                'clf__dual': [False]}]\n",
    "\n",
    "MCC_scoring = make_scorer(matthews_corrcoef)\n",
    "clf_grid = GridSearchCV(pipe, param_grid = grid_values, cv = cv, scoring = MCC_scoring, verbose=3, n_jobs = -1)\n",
    "clf_grid.fit(x_train,y_train)\n",
    "\n",
    "param_opt = clf_grid.best_params_\n",
    "print('Grid best parameter (max. MCC): ', clf_grid.best_params_)\n",
    "print('Grid best score (MCC): ', clf_grid.best_score_)\n",
    "print('Grid best std dev (MCC): ',clf_grid.cv_results_['std_test_score'][clf_grid.best_index_])\n",
    "\n",
    "y_pred=clf_grid.predict(x_test)\n",
    "\n",
    "print(classification_report(y_test, y_pred, digits=4))\n",
    "print('Test score (MCC): ', matthews_corrcoef(y_test, y_pred))\n",
    "\n",
    "print(confusion_matrix(y_test, y_pred))\n",
    "plot_confusion_matrix(clf_grid, x_test, y_test, cmap=plt.cm.Blues, values_format='.0f')"
   ]
  },
  {
   "cell_type": "code",
   "execution_count": 76,
   "metadata": {},
   "outputs": [
    {
     "name": "stdout",
     "output_type": "stream",
     "text": [
      "Fitting 5 folds for each of 504 candidates, totalling 2520 fits\n"
     ]
    },
    {
     "name": "stderr",
     "output_type": "stream",
     "text": [
      "D:\\Anaconda3\\lib\\site-packages\\sklearn\\model_selection\\_split.py:667: UserWarning: The least populated class in y has only 3 members, which is less than n_splits=5.\n",
      "  % (min_groups, self.n_splits)), UserWarning)\n",
      "[Parallel(n_jobs=-1)]: Using backend LokyBackend with 12 concurrent workers.\n",
      "[Parallel(n_jobs=-1)]: Done   8 tasks      | elapsed:    0.1s\n",
      "[Parallel(n_jobs=-1)]: Done 184 tasks      | elapsed:    2.1s\n",
      "[Parallel(n_jobs=-1)]: Done 504 tasks      | elapsed:    5.5s\n",
      "[Parallel(n_jobs=-1)]: Done 952 tasks      | elapsed:   10.3s\n",
      "[Parallel(n_jobs=-1)]: Done 1528 tasks      | elapsed:   17.6s\n",
      "[Parallel(n_jobs=-1)]: Done 2232 tasks      | elapsed:   26.9s\n"
     ]
    },
    {
     "name": "stdout",
     "output_type": "stream",
     "text": [
      "Grid best parameter (max. MCC):  {'clf__C': 50, 'clf__degree': 0, 'clf__gamma': 'auto', 'clf__kernel': 'linear', 'tfidf__norm': 'l1', 'tfidf__use_idf': False}\n",
      "Grid best score (MCC):  0.9103018525028569\n",
      "              precision    recall  f1-score   support\n",
      "\n",
      "           1     0.9091    0.9091    0.9091        11\n",
      "           2     1.0000    1.0000    1.0000         6\n",
      "           3     0.9987    0.9987    0.9987       748\n",
      "           4     0.9500    1.0000    0.9744        19\n",
      "           5     0.0000    0.0000    0.0000         1\n",
      "\n",
      "    accuracy                         0.9962       785\n",
      "   macro avg     0.7716    0.7816    0.7764       785\n",
      "weighted avg     0.9950    0.9962    0.9956       785\n",
      "\n",
      "Test score (MCC):  0.9581012597779923\n",
      "[[ 10   0   1   0   0]\n",
      " [  0   6   0   0   0]\n",
      " [  0   0 747   1   0]\n",
      " [  0   0   0  19   0]\n",
      " [  1   0   0   0   0]]\n"
     ]
    },
    {
     "name": "stderr",
     "output_type": "stream",
     "text": [
      "[Parallel(n_jobs=-1)]: Done 2520 out of 2520 | elapsed:   30.6s finished\n",
      "D:\\Anaconda3\\lib\\site-packages\\sklearn\\metrics\\_classification.py:1272: UndefinedMetricWarning: Precision and F-score are ill-defined and being set to 0.0 in labels with no predicted samples. Use `zero_division` parameter to control this behavior.\n",
      "  _warn_prf(average, modifier, msg_start, len(result))\n"
     ]
    },
    {
     "data": {
      "text/plain": [
       "<sklearn.metrics._plot.confusion_matrix.ConfusionMatrixDisplay at 0x26117f76e48>"
      ]
     },
     "execution_count": 76,
     "metadata": {},
     "output_type": "execute_result"
    },
    {
     "data": {
      "image/png": "[encoded data removed]",
      "text/plain": [
       "<Figure size 432x288 with 2 Axes>"
      ]
     },
     "metadata": {
      "needs_background": "light"
     },
     "output_type": "display_data"
    }
   ],
   "source": [
    "cv = StratifiedKFold(n_splits=5, shuffle = True, random_state=3)\n",
    "cv.get_n_splits(x_train,y_train)\n",
    "\n",
    "log = pd.DataFrame()\n",
    "i=1\n",
    "Name = 'SVM.SVC'\n",
    "\n",
    "pipe = Pipeline([('tfidf',TfidfVectorizer(stop_words=stopwords)),\n",
    "                 ('clf', svm.SVC())])\n",
    "\n",
    "grid_values = [{\n",
    "               'tfidf__use_idf': (True, False),\n",
    "               'tfidf__norm': ('l1', 'l2'),\n",
    "                'clf__kernel':['linear','rbf','poly'],\n",
    "                'clf__gamma':['auto'],\n",
    "                'clf__C':[0.1,10,20,50,75,100],\n",
    "                'clf__degree':[0, 1, 2, 3, 4, 5, 6]}]\n",
    "\n",
    "MCC_scoring = make_scorer(matthews_corrcoef)\n",
    "clf_grid = GridSearchCV(pipe, param_grid = grid_values, cv = cv, scoring = MCC_scoring, verbose=3, n_jobs = -1)\n",
    "clf_grid.fit(x_train,y_train)\n",
    "\n",
    "param_opt = clf_grid.best_params_\n",
    "print('Grid best parameter (max. MCC): ', clf_grid.best_params_)\n",
    "print('Grid best score (MCC): ', clf_grid.best_score_)\n",
    "print('Grid best std dev (MCC): ',clf_grid.cv_results_['std_test_score'][clf_grid.best_index_])\n",
    "\n",
    "y_pred=clf_grid.predict(x_test)\n",
    "\n",
    "print(classification_report(y_test, y_pred, digits=4))\n",
    "print('Test score (MCC): ', matthews_corrcoef(y_test, y_pred))\n",
    "\n",
    "print(confusion_matrix(y_test, y_pred))\n",
    "plot_confusion_matrix(clf_grid, x_test, y_test, cmap=plt.cm.Blues, values_format='.0f')"
   ]
  },
  {
   "cell_type": "markdown",
   "metadata": {},
   "source": [
    "# Rate Direction Prediction (Unique Text)"
   ]
  },
  {
   "cell_type": "code",
   "execution_count": 69,
   "metadata": {},
   "outputs": [],
   "source": [
    "dfunique=df.drop_duplicates('singlesentence')"
   ]
  },
  {
   "cell_type": "code",
   "execution_count": 70,
   "metadata": {},
   "outputs": [],
   "source": [
    "df_y = dfunique['Rates']\n",
    "df_X = dfunique['singlesentence']"
   ]
  },
  {
   "cell_type": "code",
   "execution_count": 71,
   "metadata": {},
   "outputs": [],
   "source": [
    "x_train, x_test, y_train, y_test = train_test_split(df_X, df_y, test_size=0.33, stratify=df_y, random_state=3)"
   ]
  },
  {
   "cell_type": "code",
   "execution_count": 72,
   "metadata": {},
   "outputs": [],
   "source": [
    "stopwords = ['a', 'about', 'an', 'and', 'are', 'as', 'at', 'be', 'been', 'but', 'by', 'can', \\\n",
    "             'even', 'ever', 'for', 'from', 'get', 'had', 'has', 'have', 'he', 'her', 'hers', 'his', \\\n",
    "             'how', 'i', 'if', 'in', 'into', 'is', 'it', 'its', 'just', 'me', 'my', 'of', 'on', 'or', \\\n",
    "             'see', 'seen', 'she', 'so', 'than', 'that', 'the', 'their', 'there', 'they', 'this', \\\n",
    "             'to', 'was', 'we', 'were', 'what', 'when', 'which', 'who', 'will', 'with', 'you']"
   ]
  },
  {
   "cell_type": "code",
   "execution_count": 15,
   "metadata": {},
   "outputs": [
    {
     "name": "stdout",
     "output_type": "stream",
     "text": [
      "Fitting 5 folds for each of 72 candidates, totalling 360 fits\n"
     ]
    },
    {
     "name": "stderr",
     "output_type": "stream",
     "text": [
      "D:\\Anaconda3\\lib\\site-packages\\sklearn\\model_selection\\_split.py:667: UserWarning: The least populated class in y has only 2 members, which is less than n_splits=5.\n",
      "  % (min_groups, self.n_splits)), UserWarning)\n",
      "[Parallel(n_jobs=-1)]: Using backend LokyBackend with 12 concurrent workers.\n",
      "[Parallel(n_jobs=-1)]: Done   8 tasks      | elapsed:    2.5s\n",
      "[Parallel(n_jobs=-1)]: Done 140 tasks      | elapsed:    3.6s\n"
     ]
    },
    {
     "name": "stdout",
     "output_type": "stream",
     "text": [
      "Grid best parameter (max. MCC):  {'clf__alpha': 0.01, 'clf__fit_prior': True, 'tfidf__ngram_range': (2, 2), 'tfidf__norm': 'l2', 'tfidf__use_idf': True}\n",
      "Grid best score (MCC):  0.8668792203878837\n",
      "              precision    recall  f1-score   support\n",
      "\n",
      "           1     0.9091    0.9091    0.9091        11\n",
      "           2     1.0000    0.8333    0.9091         6\n",
      "           3     0.9927    0.9856    0.9891       416\n",
      "           4     0.7619    0.8889    0.8205        18\n",
      "           5     0.0000    0.0000    0.0000         1\n",
      "\n",
      "    accuracy                         0.9757       452\n",
      "   macro avg     0.7327    0.7234    0.7256       452\n",
      "weighted avg     0.9794    0.9757    0.9772       452\n",
      "\n",
      "Test score (MCC):  0.8453044917032564\n",
      "[[ 10   0   1   0   0]\n",
      " [  1   5   0   0   0]\n",
      " [  0   0 410   4   2]\n",
      " [  0   0   2  16   0]\n",
      " [  0   0   0   1   0]]\n"
     ]
    },
    {
     "name": "stderr",
     "output_type": "stream",
     "text": [
      "[Parallel(n_jobs=-1)]: Done 360 out of 360 | elapsed:    4.7s finished\n"
     ]
    },
    {
     "data": {
      "text/plain": [
       "<sklearn.metrics._plot.confusion_matrix.ConfusionMatrixDisplay at 0x261176e6390>"
      ]
     },
     "execution_count": 15,
     "metadata": {},
     "output_type": "execute_result"
    },
    {
     "data": {
      "image/png": "[encoded data removed]",
      "text/plain": [
       "<Figure size 432x288 with 2 Axes>"
      ]
     },
     "metadata": {
      "needs_background": "light"
     },
     "output_type": "display_data"
    }
   ],
   "source": [
    "cv = StratifiedKFold(n_splits=5, shuffle = True, random_state=3)\n",
    "cv.get_n_splits(x_train,y_train)\n",
    "\n",
    "log = pd.DataFrame()\n",
    "i=1\n",
    "Name = 'MultinomialNaiveBayes'\n",
    "\n",
    "pipe = Pipeline([('tfidf',TfidfVectorizer(stop_words=stopwords)),\n",
    "                 ('clf', MultinomialNB())])\n",
    "\n",
    "grid_values = {'tfidf__ngram_range': [(1, 1), (1, 2), (2, 2)],\n",
    "               'tfidf__use_idf': (True, False),\n",
    "               'tfidf__norm': ('l1', 'l2'),\n",
    "               'clf__alpha': [1, 1e-1, 1e-2],\n",
    "               'clf__fit_prior': [True, False]}\n",
    "\n",
    "MCC_scoring = make_scorer(matthews_corrcoef)\n",
    "clf_grid = GridSearchCV(pipe, param_grid = grid_values, cv = cv, scoring = MCC_scoring, verbose=3, n_jobs = -1)\n",
    "clf_grid.fit(x_train,y_train)\n",
    "\n",
    "param_opt = clf_grid.best_params_\n",
    "print('Grid best parameter (max. MCC): ', clf_grid.best_params_)\n",
    "print('Grid best score (MCC): ', clf_grid.best_score_)\n",
    "print('Grid best std dev (MCC): ',clf_grid.cv_results_['std_test_score'][clf_grid.best_index_])\n",
    "\n",
    "y_pred=clf_grid.predict(x_test)\n",
    "\n",
    "print(classification_report(y_test, y_pred, digits=4))\n",
    "print('Test score (MCC): ', matthews_corrcoef(y_test, y_pred))\n",
    "\n",
    "print(confusion_matrix(y_test, y_pred))\n",
    "plot_confusion_matrix(clf_grid, x_test, y_test, cmap=plt.cm.Blues, values_format='.0f')"
   ]
  },
  {
   "cell_type": "code",
   "execution_count": 16,
   "metadata": {},
   "outputs": [
    {
     "name": "stdout",
     "output_type": "stream",
     "text": [
      "Fitting 5 folds for each of 36 candidates, totalling 180 fits\n"
     ]
    },
    {
     "name": "stderr",
     "output_type": "stream",
     "text": [
      "D:\\Anaconda3\\lib\\site-packages\\sklearn\\model_selection\\_split.py:667: UserWarning: The least populated class in y has only 2 members, which is less than n_splits=5.\n",
      "  % (min_groups, self.n_splits)), UserWarning)\n",
      "[Parallel(n_jobs=-1)]: Using backend LokyBackend with 12 concurrent workers.\n",
      "[Parallel(n_jobs=-1)]: Done   8 tasks      | elapsed:    0.1s\n"
     ]
    },
    {
     "name": "stdout",
     "output_type": "stream",
     "text": [
      "Grid best parameter (max. MCC):  {'clf__dual': True, 'clf__penalty': 'l2', 'tfidf__ngram_range': (1, 2), 'tfidf__norm': 'l2', 'tfidf__use_idf': False}\n",
      "Grid best score (MCC):  0.9631594427590908\n",
      "              precision    recall  f1-score   support\n",
      "\n",
      "           1     0.9091    0.9091    0.9091        11\n",
      "           2     1.0000    0.8333    0.9091         6\n",
      "           3     0.9905    1.0000    0.9952       416\n",
      "           4     1.0000    0.8889    0.9412        18\n",
      "           5     0.0000    0.0000    0.0000         1\n",
      "\n",
      "    accuracy                         0.9889       452\n",
      "   macro avg     0.7799    0.7263    0.7509       452\n",
      "weighted avg     0.9868    0.9889    0.9876       452\n",
      "\n",
      "Test score (MCC):  0.9242562245765679\n",
      "[[ 10   0   1   0   0]\n",
      " [  0   5   1   0   0]\n",
      " [  0   0 416   0   0]\n",
      " [  0   0   2  16   0]\n",
      " [  1   0   0   0   0]]\n"
     ]
    },
    {
     "name": "stderr",
     "output_type": "stream",
     "text": [
      "[Parallel(n_jobs=-1)]: Done 180 out of 180 | elapsed:    1.3s finished\n",
      "D:\\Anaconda3\\lib\\site-packages\\sklearn\\metrics\\_classification.py:1272: UndefinedMetricWarning: Precision and F-score are ill-defined and being set to 0.0 in labels with no predicted samples. Use `zero_division` parameter to control this behavior.\n",
      "  _warn_prf(average, modifier, msg_start, len(result))\n"
     ]
    },
    {
     "data": {
      "text/plain": [
       "<sklearn.metrics._plot.confusion_matrix.ConfusionMatrixDisplay at 0x261172ed080>"
      ]
     },
     "execution_count": 16,
     "metadata": {},
     "output_type": "execute_result"
    },
    {
     "data": {
      "image/png": "[encoded data removed]",
      "text/plain": [
       "<Figure size 432x288 with 2 Axes>"
      ]
     },
     "metadata": {
      "needs_background": "light"
     },
     "output_type": "display_data"
    }
   ],
   "source": [
    "cv = StratifiedKFold(n_splits=5, shuffle = True, random_state=3)\n",
    "cv.get_n_splits(x_train,y_train)\n",
    "\n",
    "log = pd.DataFrame()\n",
    "i=1\n",
    "Name = 'LinearSVC'\n",
    "\n",
    "pipe = Pipeline([('tfidf',TfidfVectorizer(stop_words=stopwords)),\n",
    "                 ('clf', LinearSVC())])\n",
    "\n",
    "grid_values = [{'tfidf__ngram_range': [(1, 1), (1, 2), (2, 2)],\n",
    "               'tfidf__use_idf': (True, False),\n",
    "               'tfidf__norm': ('l1', 'l2'),\n",
    "                'clf__penalty':['l2'],\n",
    "                'clf__dual':[True,False]},\n",
    "                {'tfidf__ngram_range': [(1, 1), (1, 2), (2, 2)],\n",
    "               'tfidf__use_idf': (True, False),\n",
    "               'tfidf__norm': ('l1', 'l2'),\n",
    "                'clf__penalty':['l1'],\n",
    "                'clf__dual': [False]}]\n",
    "\n",
    "MCC_scoring = make_scorer(matthews_corrcoef)\n",
    "clf_grid = GridSearchCV(pipe, param_grid = grid_values, cv = cv, scoring = MCC_scoring, verbose=3, n_jobs = -1)\n",
    "clf_grid.fit(x_train,y_train)\n",
    "\n",
    "param_opt = clf_grid.best_params_\n",
    "print('Grid best parameter (max. MCC): ', clf_grid.best_params_)\n",
    "print('Grid best score (MCC): ', clf_grid.best_score_)\n",
    "print('Grid best std dev (MCC): ',clf_grid.cv_results_['std_test_score'][clf_grid.best_index_])\n",
    "\n",
    "y_pred=clf_grid.predict(x_test)\n",
    "\n",
    "print(classification_report(y_test, y_pred, digits=4))\n",
    "print('Test score (MCC): ', matthews_corrcoef(y_test, y_pred))\n",
    "\n",
    "print(confusion_matrix(y_test, y_pred))\n",
    "plot_confusion_matrix(clf_grid, x_test, y_test, cmap=plt.cm.Blues, values_format='.0f')"
   ]
  },
  {
   "cell_type": "code",
   "execution_count": 73,
   "metadata": {},
   "outputs": [
    {
     "name": "stdout",
     "output_type": "stream",
     "text": [
      "Fitting 5 folds for each of 504 candidates, totalling 2520 fits\n"
     ]
    },
    {
     "name": "stderr",
     "output_type": "stream",
     "text": [
      "D:\\Anaconda3\\lib\\site-packages\\sklearn\\model_selection\\_split.py:667: UserWarning: The least populated class in y has only 2 members, which is less than n_splits=5.\n",
      "  % (min_groups, self.n_splits)), UserWarning)\n",
      "[Parallel(n_jobs=-1)]: Using backend LokyBackend with 12 concurrent workers.\n",
      "[Parallel(n_jobs=-1)]: Done   8 tasks      | elapsed:    0.0s\n",
      "[Parallel(n_jobs=-1)]: Done 344 tasks      | elapsed:    2.4s\n",
      "[Parallel(n_jobs=-1)]: Done 984 tasks      | elapsed:    6.7s\n",
      "[Parallel(n_jobs=-1)]: Done 1880 tasks      | elapsed:   13.2s\n"
     ]
    },
    {
     "name": "stdout",
     "output_type": "stream",
     "text": [
      "Grid best parameter (max. MCC):  {'clf__C': 10, 'clf__degree': 0, 'clf__gamma': 'auto', 'clf__kernel': 'linear', 'tfidf__norm': 'l2', 'tfidf__use_idf': False}\n",
      "Grid best score (MCC):  0.9478002620742837\n",
      "              precision    recall  f1-score   support\n",
      "\n",
      "           1     0.9000    0.8182    0.8571        11\n",
      "           2     1.0000    1.0000    1.0000         6\n",
      "           3     0.9904    0.9952    0.9928       416\n",
      "           4     1.0000    0.8889    0.9412        18\n",
      "           5     0.0000    0.0000    0.0000         1\n",
      "\n",
      "    accuracy                         0.9845       452\n",
      "   macro avg     0.7781    0.7405    0.7582       452\n",
      "weighted avg     0.9865    0.9845    0.9853       452\n",
      "\n",
      "Test score (MCC):  0.8949238262065959\n",
      "[[  9   0   2   0   0]\n",
      " [  0   6   0   0   0]\n",
      " [  0   0 414   0   2]\n",
      " [  0   0   2  16   0]\n",
      " [  1   0   0   0   0]]\n"
     ]
    },
    {
     "name": "stderr",
     "output_type": "stream",
     "text": [
      "[Parallel(n_jobs=-1)]: Done 2520 out of 2520 | elapsed:   17.8s finished\n"
     ]
    },
    {
     "data": {
      "text/plain": [
       "<sklearn.metrics._plot.confusion_matrix.ConfusionMatrixDisplay at 0x261183cd4e0>"
      ]
     },
     "execution_count": 73,
     "metadata": {},
     "output_type": "execute_result"
    },
    {
     "data": {
      "image/png": "[encoded data removed]",
      "text/plain": [
       "<Figure size 432x288 with 2 Axes>"
      ]
     },
     "metadata": {
      "needs_background": "light"
     },
     "output_type": "display_data"
    }
   ],
   "source": [
    "cv = StratifiedKFold(n_splits=5, shuffle = True, random_state=3)\n",
    "cv.get_n_splits(x_train,y_train)\n",
    "\n",
    "log = pd.DataFrame()\n",
    "i=1\n",
    "Name = 'SVM.SVC'\n",
    "\n",
    "pipe = Pipeline([('tfidf',TfidfVectorizer(stop_words=stopwords)),\n",
    "                 ('clf', svm.SVC())])\n",
    "\n",
    "grid_values = [{\n",
    "               'tfidf__use_idf': (True, False),\n",
    "               'tfidf__norm': ('l1', 'l2'),\n",
    "                'clf__kernel':['linear','rbf','poly'],\n",
    "                'clf__gamma':['auto'],\n",
    "                'clf__C':[0.1,10,20,50,75,100],\n",
    "                'clf__degree':[0, 1, 2, 3, 4, 5, 6]}]\n",
    "\n",
    "MCC_scoring = make_scorer(matthews_corrcoef)\n",
    "clf_grid = GridSearchCV(pipe, param_grid = grid_values, cv = cv, scoring = MCC_scoring, verbose=3, n_jobs = -1)\n",
    "clf_grid.fit(x_train,y_train)\n",
    "\n",
    "param_opt = clf_grid.best_params_\n",
    "print('Grid best parameter (max. MCC): ', clf_grid.best_params_)\n",
    "print('Grid best score (MCC): ', clf_grid.best_score_)\n",
    "print('Grid best std dev (MCC): ',clf_grid.cv_results_['std_test_score'][clf_grid.best_index_])\n",
    "\n",
    "y_pred=clf_grid.predict(x_test)\n",
    "\n",
    "print(classification_report(y_test, y_pred, digits=4))\n",
    "print('Test score (MCC): ', matthews_corrcoef(y_test, y_pred))\n",
    "\n",
    "print(confusion_matrix(y_test, y_pred))\n",
    "plot_confusion_matrix(clf_grid, x_test, y_test, cmap=plt.cm.Blues, values_format='.0f')"
   ]
  },
  {
   "cell_type": "markdown",
   "metadata": {},
   "source": [
    "# Tone Prediction"
   ]
  },
  {
   "cell_type": "code",
   "execution_count": 65,
   "metadata": {},
   "outputs": [],
   "source": [
    "#Split out response\n",
    "#df_y = pd.DataFrame(df['Tone'])\n",
    "#df_X = pd.DataFrame(df['singlesentence'])\n",
    "df_y = df['Tone']\n",
    "df_X = df['singlesentence']\n",
    "\n",
    "#df_y = np.ravel(df_y)\n",
    "#rint(type(df_y))\n",
    "#rint(df_X.columns)"
   ]
  },
  {
   "cell_type": "code",
   "execution_count": 66,
   "metadata": {},
   "outputs": [],
   "source": [
    "#x_train, x_test, y_train, y_test = train_test_split(df_X, df_y, test_size=0.33, shuffle=False)\n",
    "x_train, x_test, y_train, y_test = train_test_split(df_X, df_y, test_size=0.33, stratify=df_y, random_state=3)"
   ]
  },
  {
   "cell_type": "code",
   "execution_count": 11,
   "metadata": {},
   "outputs": [],
   "source": [
    "log_cols = [\"Classifier\", \"MCC Score\",\"Accuracy\",\"Precision Score\",\"Recall Score\",\"F1-Score\",\"roc-auc_Score\"]\n",
    "log = pd.DataFrame(columns=log_cols)"
   ]
  },
  {
   "cell_type": "code",
   "execution_count": 67,
   "metadata": {},
   "outputs": [],
   "source": [
    "stopwords = ['a', 'about', 'an', 'and', 'are', 'as', 'at', 'be', 'been', 'but', 'by', 'can', \\\n",
    "             'even', 'ever', 'for', 'from', 'get', 'had', 'has', 'have', 'he', 'her', 'hers', 'his', \\\n",
    "             'how', 'i', 'if', 'in', 'into', 'is', 'it', 'its', 'just', 'me', 'my', 'of', 'on', 'or', \\\n",
    "             'see', 'seen', 'she', 'so', 'than', 'that', 'the', 'their', 'there', 'they', 'this', \\\n",
    "             'to', 'was', 'we', 'were', 'what', 'when', 'which', 'who', 'will', 'with', 'you']"
   ]
  },
  {
   "cell_type": "code",
   "execution_count": 41,
   "metadata": {},
   "outputs": [
    {
     "name": "stdout",
     "output_type": "stream",
     "text": [
      "Fitting 5 folds for each of 72 candidates, totalling 360 fits\n"
     ]
    },
    {
     "name": "stderr",
     "output_type": "stream",
     "text": [
      "[Parallel(n_jobs=-1)]: Using backend LokyBackend with 12 concurrent workers.\n",
      "[Parallel(n_jobs=-1)]: Done   8 tasks      | elapsed:    0.0s\n"
     ]
    },
    {
     "name": "stdout",
     "output_type": "stream",
     "text": [
      "Grid best parameter (max. MCC):  {'clf__alpha': 0.01, 'clf__fit_prior': True, 'tfidf__ngram_range': (2, 2), 'tfidf__norm': 'l1', 'tfidf__use_idf': True}\n",
      "Grid best score (MCC):  0.7771083280665833\n",
      "              precision    recall  f1-score   support\n",
      "\n",
      "           1     0.8333    0.8995    0.8651       189\n",
      "           2     0.7111    0.4324    0.5378        74\n",
      "           3     0.9220    0.9455    0.9336       275\n",
      "           4     0.7217    0.7545    0.7378       110\n",
      "           5     0.7914    0.8029    0.7971       137\n",
      "\n",
      "    accuracy                         0.8344       785\n",
      "   macro avg     0.7959    0.7670    0.7743       785\n",
      "weighted avg     0.8299    0.8344    0.8285       785\n",
      "\n",
      "Test score (MCC):  0.7815732402138628\n",
      "[[170   3   7   0   9]\n",
      " [ 19  32   3  16   4]\n",
      " [  5   2 260   4   4]\n",
      " [  6   2   7  83  12]\n",
      " [  4   6   5  12 110]]\n"
     ]
    },
    {
     "name": "stderr",
     "output_type": "stream",
     "text": [
      "[Parallel(n_jobs=-1)]: Done 360 out of 360 | elapsed:    2.9s finished\n"
     ]
    },
    {
     "data": {
      "text/plain": [
       "<sklearn.metrics._plot.confusion_matrix.ConfusionMatrixDisplay at 0x22c670f1b38>"
      ]
     },
     "execution_count": 41,
     "metadata": {},
     "output_type": "execute_result"
    },
    {
     "data": {
      "image/png": "[encoded data removed]",
      "text/plain": [
       "<Figure size 432x288 with 2 Axes>"
      ]
     },
     "metadata": {
      "needs_background": "light"
     },
     "output_type": "display_data"
    }
   ],
   "source": [
    "cv = StratifiedKFold(n_splits=5, shuffle = True, random_state=3)\n",
    "cv.get_n_splits(x_train,y_train)\n",
    "\n",
    "log = pd.DataFrame()\n",
    "i=1\n",
    "Name = 'MultinomialNaiveBayes'\n",
    "\n",
    "pipe = Pipeline([('tfidf',TfidfVectorizer(stop_words=stopwords)),\n",
    "                 ('clf', MultinomialNB())])\n",
    "\n",
    "grid_values = {'tfidf__ngram_range': [(1, 1), (1, 2), (2, 2)],\n",
    "               'tfidf__use_idf': (True, False),\n",
    "               'tfidf__norm': ('l1', 'l2'),\n",
    "               'clf__alpha': [1, 1e-1, 1e-2],\n",
    "               'clf__fit_prior': [True, False]}\n",
    "\n",
    "MCC_scoring = make_scorer(matthews_corrcoef)\n",
    "clf_grid = GridSearchCV(pipe, param_grid = grid_values, cv = cv, scoring = MCC_scoring, verbose=3, n_jobs = -1)\n",
    "clf_grid.fit(x_train,y_train)\n",
    "\n",
    "param_opt = clf_grid.best_params_\n",
    "print('Grid best parameter (max. MCC): ', clf_grid.best_params_)\n",
    "print('Grid best score (MCC): ', clf_grid.best_score_)\n",
    "print('Grid best std dev (MCC): ',clf_grid.cv_results_['std_test_score'][clf_grid.best_index_])\n",
    "\n",
    "y_pred=clf_grid.predict(x_test)\n",
    "\n",
    "print(classification_report(y_test, y_pred, digits=4))\n",
    "print('Test score (MCC): ', matthews_corrcoef(y_test, y_pred))\n",
    "\n",
    "print(confusion_matrix(y_test, y_pred))\n",
    "plot_confusion_matrix(clf_grid, x_test, y_test, cmap=plt.cm.Blues, values_format='.0f')"
   ]
  },
  {
   "cell_type": "code",
   "execution_count": 42,
   "metadata": {},
   "outputs": [
    {
     "name": "stdout",
     "output_type": "stream",
     "text": [
      "Fitting 5 folds for each of 36 candidates, totalling 180 fits\n"
     ]
    },
    {
     "name": "stderr",
     "output_type": "stream",
     "text": [
      "[Parallel(n_jobs=-1)]: Using backend LokyBackend with 12 concurrent workers.\n",
      "[Parallel(n_jobs=-1)]: Done   8 tasks      | elapsed:    0.1s\n",
      "[Parallel(n_jobs=-1)]: Done  96 out of 180 | elapsed:    1.2s remaining:    1.1s\n"
     ]
    },
    {
     "name": "stdout",
     "output_type": "stream",
     "text": [
      "Grid best parameter (max. MCC):  {'clf__dual': True, 'clf__penalty': 'l2', 'tfidf__ngram_range': (1, 2), 'tfidf__norm': 'l2', 'tfidf__use_idf': True}\n",
      "Grid best score (MCC):  0.8076523355552737\n",
      "              precision    recall  f1-score   support\n",
      "\n",
      "           1     0.8571    0.9206    0.8878       189\n",
      "           2     0.7288    0.5811    0.6466        74\n",
      "           3     0.9640    0.9745    0.9693       275\n",
      "           4     0.8532    0.8455    0.8493       110\n",
      "           5     0.8309    0.8248    0.8278       137\n",
      "\n",
      "    accuracy                         0.8803       785\n",
      "   macro avg     0.8468    0.8293    0.8362       785\n",
      "weighted avg     0.8774    0.8803    0.8777       785\n",
      "\n",
      "Test score (MCC):  0.842195484536083\n",
      "[[174   4   2   2   7]\n",
      " [ 20  43   2   3   6]\n",
      " [  2   0 268   1   4]\n",
      " [  2   6   3  93   6]\n",
      " [  5   6   3  10 113]]\n"
     ]
    },
    {
     "name": "stderr",
     "output_type": "stream",
     "text": [
      "[Parallel(n_jobs=-1)]: Done 180 out of 180 | elapsed:    2.3s finished\n"
     ]
    },
    {
     "data": {
      "text/plain": [
       "<sklearn.metrics._plot.confusion_matrix.ConfusionMatrixDisplay at 0x22c673a07f0>"
      ]
     },
     "execution_count": 42,
     "metadata": {},
     "output_type": "execute_result"
    },
    {
     "data": {
      "image/png": "[encoded data removed]",
      "text/plain": [
       "<Figure size 432x288 with 2 Axes>"
      ]
     },
     "metadata": {
      "needs_background": "light"
     },
     "output_type": "display_data"
    }
   ],
   "source": [
    "cv = StratifiedKFold(n_splits=5, shuffle = True, random_state=3)\n",
    "cv.get_n_splits(x_train,y_train)\n",
    "\n",
    "log = pd.DataFrame()\n",
    "i=1\n",
    "Name = 'LinearSVC'\n",
    "\n",
    "pipe = Pipeline([('tfidf',TfidfVectorizer(stop_words=stopwords)),\n",
    "                 ('clf', LinearSVC())])\n",
    "\n",
    "grid_values = [{'tfidf__ngram_range': [(1, 1), (1, 2), (2, 2)],\n",
    "               'tfidf__use_idf': (True, False),\n",
    "               'tfidf__norm': ('l1', 'l2'),\n",
    "                'clf__penalty':['l2'],\n",
    "                'clf__dual':[True,False]},\n",
    "                {'tfidf__ngram_range': [(1, 1), (1, 2), (2, 2)],\n",
    "               'tfidf__use_idf': (True, False),\n",
    "               'tfidf__norm': ('l1', 'l2'),\n",
    "                'clf__penalty':['l1'],\n",
    "                'clf__dual': [False]}]\n",
    "\n",
    "MCC_scoring = make_scorer(matthews_corrcoef)\n",
    "clf_grid = GridSearchCV(pipe, param_grid = grid_values, cv = cv, scoring = MCC_scoring, verbose=3, n_jobs = -1)\n",
    "clf_grid.fit(x_train,y_train)\n",
    "\n",
    "param_opt = clf_grid.best_params_\n",
    "print('Grid best parameter (max. MCC): ', clf_grid.best_params_)\n",
    "print('Grid best score (MCC): ', clf_grid.best_score_)\n",
    "print('Grid best std dev (MCC): ',clf_grid.cv_results_['std_test_score'][clf_grid.best_index_])\n",
    "\n",
    "y_pred=clf_grid.predict(x_test)\n",
    "\n",
    "print(classification_report(y_test, y_pred, digits=4))\n",
    "print('Test score (MCC): ', matthews_corrcoef(y_test, y_pred))\n",
    "\n",
    "print(confusion_matrix(y_test, y_pred))\n",
    "plot_confusion_matrix(clf_grid, x_test, y_test, cmap=plt.cm.Blues, values_format='.0f')"
   ]
  },
  {
   "cell_type": "code",
   "execution_count": 43,
   "metadata": {},
   "outputs": [],
   "source": [
    "myreview='The labor market remains depressed, but inflation is improving.'"
   ]
  },
  {
   "cell_type": "code",
   "execution_count": 44,
   "metadata": {},
   "outputs": [
    {
     "name": "stdout",
     "output_type": "stream",
     "text": [
      "[1]\n"
     ]
    }
   ],
   "source": [
    "print(clf_grid.predict([myreview]))"
   ]
  },
  {
   "cell_type": "code",
   "execution_count": 68,
   "metadata": {},
   "outputs": [
    {
     "name": "stdout",
     "output_type": "stream",
     "text": [
      "Fitting 5 folds for each of 504 candidates, totalling 2520 fits\n"
     ]
    },
    {
     "name": "stderr",
     "output_type": "stream",
     "text": [
      "[Parallel(n_jobs=-1)]: Using backend LokyBackend with 12 concurrent workers.\n",
      "[Parallel(n_jobs=-1)]: Done   8 tasks      | elapsed:    3.6s\n",
      "[Parallel(n_jobs=-1)]: Done 104 tasks      | elapsed:    8.5s\n",
      "[Parallel(n_jobs=-1)]: Done 264 tasks      | elapsed:   16.8s\n",
      "[Parallel(n_jobs=-1)]: Done 488 tasks      | elapsed:   28.2s\n",
      "[Parallel(n_jobs=-1)]: Done 776 tasks      | elapsed:   43.4s\n",
      "[Parallel(n_jobs=-1)]: Done 1128 tasks      | elapsed:  1.0min\n",
      "[Parallel(n_jobs=-1)]: Done 1544 tasks      | elapsed:  1.4min\n",
      "[Parallel(n_jobs=-1)]: Done 2024 tasks      | elapsed:  1.9min\n",
      "[Parallel(n_jobs=-1)]: Done 2520 out of 2520 | elapsed:  2.3min finished\n"
     ]
    },
    {
     "name": "stdout",
     "output_type": "stream",
     "text": [
      "Grid best parameter (max. MCC):  {'clf__C': 10, 'clf__degree': 0, 'clf__gamma': 'auto', 'clf__kernel': 'linear', 'tfidf__norm': 'l2', 'tfidf__use_idf': True}\n",
      "Grid best score (MCC):  0.8050822441860515\n",
      "              precision    recall  f1-score   support\n",
      "\n",
      "           1     0.8431    0.9101    0.8753       189\n",
      "           2     0.6353    0.7297    0.6792        74\n",
      "           3     0.9491    0.9491    0.9491       275\n",
      "           4     0.9091    0.8182    0.8612       110\n",
      "           5     0.9098    0.8102    0.8571       137\n",
      "\n",
      "    accuracy                         0.8764       785\n",
      "   macro avg     0.8493    0.8435    0.8444       785\n",
      "weighted avg     0.8815    0.8764    0.8775       785\n",
      "\n",
      "Test score (MCC):  0.8379694856985442\n",
      "[[172   8   4   1   4]\n",
      " [ 14  54   2   3   1]\n",
      " [  5   3 261   2   4]\n",
      " [  4  10   4  90   2]\n",
      " [  9  10   4   3 111]]\n"
     ]
    },
    {
     "data": {
      "text/plain": [
       "<sklearn.metrics._plot.confusion_matrix.ConfusionMatrixDisplay at 0x2611836d5c0>"
      ]
     },
     "execution_count": 68,
     "metadata": {},
     "output_type": "execute_result"
    },
    {
     "data": {
      "image/png": "[encoded data removed]",
      "text/plain": [
       "<Figure size 432x288 with 2 Axes>"
      ]
     },
     "metadata": {
      "needs_background": "light"
     },
     "output_type": "display_data"
    }
   ],
   "source": [
    "cv = StratifiedKFold(n_splits=5, shuffle = True, random_state=3)\n",
    "cv.get_n_splits(x_train,y_train)\n",
    "\n",
    "log = pd.DataFrame()\n",
    "i=1\n",
    "Name = 'SVM.SVC'\n",
    "\n",
    "pipe = Pipeline([('tfidf',TfidfVectorizer(stop_words=stopwords)),\n",
    "                 ('clf', svm.SVC())])\n",
    "\n",
    "grid_values = [{\n",
    "               'tfidf__use_idf': (True, False),\n",
    "               'tfidf__norm': ('l1', 'l2'),\n",
    "                'clf__kernel':['linear','rbf','poly'],\n",
    "                'clf__gamma':['auto'],\n",
    "                'clf__C':[0.1,10,20,50,75,100],\n",
    "                'clf__degree':[0, 1, 2, 3, 4, 5, 6]}]\n",
    "\n",
    "MCC_scoring = make_scorer(matthews_corrcoef)\n",
    "clf_grid = GridSearchCV(pipe, param_grid = grid_values, cv = cv, scoring = MCC_scoring, verbose=3, n_jobs = -1)\n",
    "clf_grid.fit(x_train,y_train)\n",
    "\n",
    "param_opt = clf_grid.best_params_\n",
    "print('Grid best parameter (max. MCC): ', clf_grid.best_params_)\n",
    "print('Grid best score (MCC): ', clf_grid.best_score_)\n",
    "print('Grid best std dev (MCC): ',clf_grid.cv_results_['std_test_score'][clf_grid.best_index_])\n",
    "\n",
    "y_pred=clf_grid.predict(x_test)\n",
    "\n",
    "print(classification_report(y_test, y_pred, digits=4))\n",
    "print('Test score (MCC): ', matthews_corrcoef(y_test, y_pred))\n",
    "\n",
    "print(confusion_matrix(y_test, y_pred))\n",
    "plot_confusion_matrix(clf_grid, x_test, y_test, cmap=plt.cm.Blues, values_format='.0f')"
   ]
  },
  {
   "cell_type": "markdown",
   "metadata": {},
   "source": [
    "# Tone Prediction (Unique Text)"
   ]
  },
  {
   "cell_type": "code",
   "execution_count": 78,
   "metadata": {},
   "outputs": [],
   "source": [
    "dfunique=df.drop_duplicates('singlesentence')"
   ]
  },
  {
   "cell_type": "code",
   "execution_count": 79,
   "metadata": {},
   "outputs": [],
   "source": [
    "df_y = dfunique['Tone']\n",
    "df_X = dfunique['singlesentence']"
   ]
  },
  {
   "cell_type": "code",
   "execution_count": 80,
   "metadata": {},
   "outputs": [],
   "source": [
    "x_train, x_test, y_train, y_test = train_test_split(df_X, df_y, test_size=0.33, stratify=df_y, random_state=3)"
   ]
  },
  {
   "cell_type": "code",
   "execution_count": 81,
   "metadata": {},
   "outputs": [],
   "source": [
    "stopwords = ['a', 'about', 'an', 'and', 'are', 'as', 'at', 'be', 'been', 'but', 'by', 'can', \\\n",
    "             'even', 'ever', 'for', 'from', 'get', 'had', 'has', 'have', 'he', 'her', 'hers', 'his', \\\n",
    "             'how', 'i', 'if', 'in', 'into', 'is', 'it', 'its', 'just', 'me', 'my', 'of', 'on', 'or', \\\n",
    "             'see', 'seen', 'she', 'so', 'than', 'that', 'the', 'their', 'there', 'they', 'this', \\\n",
    "             'to', 'was', 'we', 'were', 'what', 'when', 'which', 'who', 'will', 'with', 'you']"
   ]
  },
  {
   "cell_type": "code",
   "execution_count": 21,
   "metadata": {},
   "outputs": [
    {
     "name": "stdout",
     "output_type": "stream",
     "text": [
      "Fitting 5 folds for each of 72 candidates, totalling 360 fits\n"
     ]
    },
    {
     "name": "stderr",
     "output_type": "stream",
     "text": [
      "[Parallel(n_jobs=-1)]: Using backend LokyBackend with 12 concurrent workers.\n",
      "[Parallel(n_jobs=-1)]: Done   8 tasks      | elapsed:    2.3s\n",
      "[Parallel(n_jobs=-1)]: Done 149 tasks      | elapsed:    3.4s\n"
     ]
    },
    {
     "name": "stdout",
     "output_type": "stream",
     "text": [
      "Grid best parameter (max. MCC):  {'clf__alpha': 0.01, 'clf__fit_prior': True, 'tfidf__ngram_range': (2, 2), 'tfidf__norm': 'l2', 'tfidf__use_idf': True}\n",
      "Grid best score (MCC):  0.6657288732279383\n",
      "              precision    recall  f1-score   support\n",
      "\n",
      "           1     0.7426    0.6818    0.7109       110\n",
      "           2     0.4265    0.5179    0.4677        56\n",
      "           3     0.8876    0.7596    0.8187       104\n",
      "           4     0.6375    0.6711    0.6538        76\n",
      "           5     0.6404    0.6887    0.6636       106\n",
      "\n",
      "    accuracy                         0.6792       452\n",
      "   macro avg     0.6669    0.6638    0.6630       452\n",
      "weighted avg     0.6951    0.6792    0.6849       452\n",
      "\n",
      "Test score (MCC):  0.5963252662080382\n",
      "[[75 14  3  6 12]\n",
      " [13 29  1  6  7]\n",
      " [ 4  5 79  4 12]\n",
      " [ 0 12  3 51 10]\n",
      " [ 9  8  3 13 73]]\n"
     ]
    },
    {
     "name": "stderr",
     "output_type": "stream",
     "text": [
      "[Parallel(n_jobs=-1)]: Done 360 out of 360 | elapsed:    4.4s finished\n"
     ]
    },
    {
     "data": {
      "text/plain": [
       "<sklearn.metrics._plot.confusion_matrix.ConfusionMatrixDisplay at 0x26117c142b0>"
      ]
     },
     "execution_count": 21,
     "metadata": {},
     "output_type": "execute_result"
    },
    {
     "data": {
      "image/png": "[encoded data removed]",
      "text/plain": [
       "<Figure size 432x288 with 2 Axes>"
      ]
     },
     "metadata": {
      "needs_background": "light"
     },
     "output_type": "display_data"
    }
   ],
   "source": [
    "cv = StratifiedKFold(n_splits=5, shuffle = True, random_state=3)\n",
    "cv.get_n_splits(x_train,y_train)\n",
    "\n",
    "log = pd.DataFrame()\n",
    "i=1\n",
    "Name = 'MultinomialNaiveBayes'\n",
    "\n",
    "pipe = Pipeline([('tfidf',TfidfVectorizer(stop_words=stopwords)),\n",
    "                 ('clf', MultinomialNB())])\n",
    "\n",
    "grid_values = {'tfidf__ngram_range': [(1, 1), (1, 2), (2, 2)],\n",
    "               'tfidf__use_idf': (True, False),\n",
    "               'tfidf__norm': ('l1', 'l2'),\n",
    "               'clf__alpha': [1, 1e-1, 1e-2],\n",
    "               'clf__fit_prior': [True, False]}\n",
    "\n",
    "MCC_scoring = make_scorer(matthews_corrcoef)\n",
    "clf_grid = GridSearchCV(pipe, param_grid = grid_values, cv = cv, scoring = MCC_scoring, verbose=3, n_jobs = -1)\n",
    "clf_grid.fit(x_train,y_train)\n",
    "\n",
    "param_opt = clf_grid.best_params_\n",
    "print('Grid best parameter (max. MCC): ', clf_grid.best_params_)\n",
    "print('Grid best score (MCC): ', clf_grid.best_score_)\n",
    "print('Grid best std dev (MCC): ',clf_grid.cv_results_['std_test_score'][clf_grid.best_index_])\n",
    "\n",
    "y_pred=clf_grid.predict(x_test)\n",
    "\n",
    "print(classification_report(y_test, y_pred, digits=4))\n",
    "print('Test score (MCC): ', matthews_corrcoef(y_test, y_pred))\n",
    "\n",
    "print(confusion_matrix(y_test, y_pred))\n",
    "plot_confusion_matrix(clf_grid, x_test, y_test, cmap=plt.cm.Blues, values_format='.0f')"
   ]
  },
  {
   "cell_type": "code",
   "execution_count": 32,
   "metadata": {},
   "outputs": [
    {
     "name": "stdout",
     "output_type": "stream",
     "text": [
      "Fitting 5 folds for each of 36 candidates, totalling 180 fits\n"
     ]
    },
    {
     "name": "stderr",
     "output_type": "stream",
     "text": [
      "[Parallel(n_jobs=-1)]: Using backend LokyBackend with 12 concurrent workers.\n",
      "[Parallel(n_jobs=-1)]: Done   8 tasks      | elapsed:    0.1s\n",
      "[Parallel(n_jobs=-1)]: Done  96 out of 180 | elapsed:    0.9s remaining:    0.8s\n"
     ]
    },
    {
     "name": "stdout",
     "output_type": "stream",
     "text": [
      "Grid best parameter (max. MCC):  {'clf__dual': True, 'clf__penalty': 'l2', 'tfidf__ngram_range': (1, 2), 'tfidf__norm': 'l2', 'tfidf__use_idf': True}\n",
      "Grid best score (MCC):  0.6829928782744509\n",
      "              precision    recall  f1-score   support\n",
      "\n",
      "           1     0.7905    0.7545    0.7721       110\n",
      "           2     0.5185    0.5000    0.5091        56\n",
      "           3     0.8515    0.8269    0.8390       104\n",
      "           4     0.7000    0.6447    0.6712        76\n",
      "           5     0.6967    0.8019    0.7456       106\n",
      "\n",
      "    accuracy                         0.7323       452\n",
      "   macro avg     0.7114    0.7056    0.7074       452\n",
      "weighted avg     0.7336    0.7323    0.7317       452\n",
      "\n",
      "Test score (MCC):  0.6609230934739048\n",
      "[[83  8  5  3 11]\n",
      " [12 28  1  9  6]\n",
      " [ 2  4 86  2 10]\n",
      " [ 0  9  8 49 10]\n",
      " [ 8  5  1  7 85]]\n"
     ]
    },
    {
     "name": "stderr",
     "output_type": "stream",
     "text": [
      "[Parallel(n_jobs=-1)]: Done 180 out of 180 | elapsed:    1.4s finished\n"
     ]
    },
    {
     "data": {
      "text/plain": [
       "<sklearn.metrics._plot.confusion_matrix.ConfusionMatrixDisplay at 0x26117e14710>"
      ]
     },
     "execution_count": 32,
     "metadata": {},
     "output_type": "execute_result"
    },
    {
     "data": {
      "image/png": "[encoded data removed]",
      "text/plain": [
       "<Figure size 432x288 with 2 Axes>"
      ]
     },
     "metadata": {
      "needs_background": "light"
     },
     "output_type": "display_data"
    }
   ],
   "source": [
    "cv = StratifiedKFold(n_splits=5, shuffle = True, random_state=3)\n",
    "cv.get_n_splits(x_train,y_train)\n",
    "\n",
    "log = pd.DataFrame()\n",
    "i=1\n",
    "Name = 'LinearSVC'\n",
    "\n",
    "pipe = Pipeline([('tfidf',TfidfVectorizer(stop_words=stopwords)),\n",
    "                 ('clf', LinearSVC())])\n",
    "\n",
    "grid_values = [{'tfidf__ngram_range': [(1, 1), (1, 2), (2, 2)],\n",
    "               'tfidf__use_idf': (True, False),\n",
    "               'tfidf__norm': ('l1', 'l2'),\n",
    "                'clf__penalty':['l2'],\n",
    "                'clf__dual':[True,False]},\n",
    "                {'tfidf__ngram_range': [(1, 1), (1, 2), (2, 2)],\n",
    "               'tfidf__use_idf': (True, False),\n",
    "               'tfidf__norm': ('l1', 'l2'),\n",
    "                'clf__penalty':['l1'],\n",
    "                'clf__dual': [False]}]\n",
    "\n",
    "MCC_scoring = make_scorer(matthews_corrcoef)\n",
    "clf_grid = GridSearchCV(pipe, param_grid = grid_values, cv = cv, scoring = MCC_scoring, verbose=3, n_jobs = -1)\n",
    "clf_grid.fit(x_train,y_train)\n",
    "\n",
    "param_opt = clf_grid.best_params_\n",
    "print('Grid best parameter (max. MCC): ', clf_grid.best_params_)\n",
    "print('Grid best score (MCC): ', clf_grid.best_score_)\n",
    "print('Grid best std dev (MCC): ',clf_grid.cv_results_['std_test_score'][clf_grid.best_index_])\n",
    "\n",
    "y_pred=clf_grid.predict(x_test)\n",
    "\n",
    "print(classification_report(y_test, y_pred, digits=4))\n",
    "print('Test score (MCC): ', matthews_corrcoef(y_test, y_pred))\n",
    "\n",
    "print(confusion_matrix(y_test, y_pred))\n",
    "plot_confusion_matrix(clf_grid, x_test, y_test, cmap=plt.cm.Blues, values_format='.0f')"
   ]
  },
  {
   "cell_type": "code",
   "execution_count": 84,
   "metadata": {},
   "outputs": [
    {
     "name": "stdout",
     "output_type": "stream",
     "text": [
      "Fitting 5 folds for each of 504 candidates, totalling 2520 fits\n"
     ]
    },
    {
     "name": "stderr",
     "output_type": "stream",
     "text": [
      "[Parallel(n_jobs=-1)]: Using backend LokyBackend with 12 concurrent workers.\n",
      "[Parallel(n_jobs=-1)]: Done   8 tasks      | elapsed:    0.3s\n",
      "[Parallel(n_jobs=-1)]: Done 104 tasks      | elapsed:    2.1s\n",
      "[Parallel(n_jobs=-1)]: Done 264 tasks      | elapsed:    5.4s\n",
      "[Parallel(n_jobs=-1)]: Done 488 tasks      | elapsed:   10.1s\n",
      "[Parallel(n_jobs=-1)]: Done 776 tasks      | elapsed:   15.9s\n",
      "[Parallel(n_jobs=-1)]: Done 1128 tasks      | elapsed:   23.3s\n",
      "[Parallel(n_jobs=-1)]: Done 1544 tasks      | elapsed:   32.6s\n",
      "[Parallel(n_jobs=-1)]: Done 2024 tasks      | elapsed:   44.3s\n",
      "[Parallel(n_jobs=-1)]: Done 2520 out of 2520 | elapsed:   56.2s finished\n"
     ]
    },
    {
     "name": "stdout",
     "output_type": "stream",
     "text": [
      "Grid best parameter (max. MCC):  {'clf__C': 50, 'clf__degree': 0, 'clf__gamma': 'auto', 'clf__kernel': 'linear', 'tfidf__norm': 'l1', 'tfidf__use_idf': True}\n",
      "Grid best score (MCC):  0.6758699010577398\n",
      "Grid best std dev (MCC):  0.0307694313701114\n",
      "              precision    recall  f1-score   support\n",
      "\n",
      "           1     0.7368    0.7636    0.7500       110\n",
      "           2     0.5000    0.6071    0.5484        56\n",
      "           3     0.8804    0.7788    0.8265       104\n",
      "           4     0.6753    0.6842    0.6797        76\n",
      "           5     0.7624    0.7264    0.7440       106\n",
      "\n",
      "    accuracy                         0.7257       452\n",
      "   macro avg     0.7110    0.7121    0.7097       452\n",
      "weighted avg     0.7362    0.7257    0.7294       452\n",
      "\n",
      "Test score (MCC):  0.6543306562073749\n",
      "[[84 15  5  4  2]\n",
      " [13 34  0  6  3]\n",
      " [ 6  3 81  4 10]\n",
      " [ 1 10  4 52  9]\n",
      " [10  6  2 11 77]]\n"
     ]
    },
    {
     "data": {
      "text/plain": [
       "<sklearn.metrics._plot.confusion_matrix.ConfusionMatrixDisplay at 0x26117c21e48>"
      ]
     },
     "execution_count": 84,
     "metadata": {},
     "output_type": "execute_result"
    },
    {
     "data": {
      "image/png": "[encoded data removed]",
      "text/plain": [
       "<Figure size 432x288 with 2 Axes>"
      ]
     },
     "metadata": {
      "needs_background": "light"
     },
     "output_type": "display_data"
    }
   ],
   "source": [
    "cv = StratifiedKFold(n_splits=5, shuffle = True, random_state=3)\n",
    "cv.get_n_splits(x_train,y_train)\n",
    "\n",
    "log = pd.DataFrame()\n",
    "i=1\n",
    "Name = 'SVM.SVC'\n",
    "\n",
    "pipe = Pipeline([('tfidf',TfidfVectorizer(stop_words=stopwords)),\n",
    "                 ('clf', svm.SVC())])\n",
    "\n",
    "grid_values = [{\n",
    "               'tfidf__use_idf': (True, False),\n",
    "               'tfidf__norm': ('l1', 'l2'),\n",
    "                'clf__kernel':['linear','rbf','poly'],\n",
    "                'clf__gamma':['auto'],\n",
    "                'clf__C':[0.1,10,20,50,75,100],\n",
    "                'clf__degree':[0, 1, 2, 3, 4, 5, 6]}]\n",
    "\n",
    "MCC_scoring = make_scorer(matthews_corrcoef)\n",
    "clf_grid = GridSearchCV(pipe, param_grid = grid_values, cv = cv, scoring = MCC_scoring, verbose=3, n_jobs = -1)\n",
    "clf_grid.fit(x_train,y_train)\n",
    "\n",
    "param_opt = clf_grid.best_params_\n",
    "print('Grid best parameter (max. MCC): ', clf_grid.best_params_)\n",
    "print('Grid best score (MCC): ', clf_grid.best_score_)\n",
    "print('Grid best std dev (MCC): ',clf_grid.cv_results_['std_test_score'][clf_grid.best_index_])\n",
    "\n",
    "y_pred=clf_grid.predict(x_test)\n",
    "\n",
    "print(classification_report(y_test, y_pred, digits=4))\n",
    "print('Test score (MCC): ', matthews_corrcoef(y_test, y_pred))\n",
    "\n",
    "print(confusion_matrix(y_test, y_pred))\n",
    "plot_confusion_matrix(clf_grid, x_test, y_test, cmap=plt.cm.Blues, values_format='.0f')"
   ]
  }
 ],
 "metadata": {
  "kernelspec": {
   "display_name": "Python 3",
   "language": "python",
   "name": "python3"
  },
  "language_info": {
   "codemirror_mode": {
    "name": "ipython",
    "version": 3
   },
   "file_extension": ".py",
   "mimetype": "text/x-python",
   "name": "python",
   "nbconvert_exporter": "python",
   "pygments_lexer": "ipython3",
   "version": "3.7.3"
  }
 },
 "nbformat": 4,
 "nbformat_minor": 2
}
